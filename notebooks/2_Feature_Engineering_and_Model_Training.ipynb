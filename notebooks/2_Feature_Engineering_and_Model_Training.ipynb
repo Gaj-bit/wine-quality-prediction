{
 "cells": [
  {
   "cell_type": "markdown",
   "id": "4437a980",
   "metadata": {
    "id": "4437a980"
   },
   "source": [
    "# Data Pre-Processing"
   ]
  },
  {
   "cell_type": "markdown",
   "id": "74b4d7e0",
   "metadata": {
    "id": "74b4d7e0"
   },
   "source": [
    "#### Import Packages and CSV"
   ]
  },
  {
   "cell_type": "code",
   "execution_count": null,
   "id": "5530cc59",
   "metadata": {
    "id": "5530cc59",
    "outputId": "5fa0529c-5adf-480a-b56f-116e14b8514e"
   },
   "outputs": [
    {
     "name": "stdout",
     "output_type": "stream",
     "text": [
      "(200, 5)\n"
     ]
    }
   ],
   "source": [
    "import pandas as pd\n",
    "import numpy as np\n",
    "import matplotlib.pyplot as plt\n",
    "import seaborn as sns\n",
    "import warnings\n",
    "warnings.filterwarnings(\"ignore\")\n",
    "\n",
    "pd.pandas.set_option(\"display.max_columns\", None)\n",
    "# Create Dataframe\n",
    "df = pd.read_csv(r\"Mall_Customers.csv\")\n",
    "# Print shape of dataset\n",
    "print(df.shape)"
   ]
  },
  {
   "cell_type": "markdown",
   "id": "c27265bd",
   "metadata": {
    "id": "c27265bd"
   },
   "source": [
    "## Data Cleaning"
   ]
  },
  {
   "cell_type": "markdown",
   "id": "dbad805a",
   "metadata": {
    "id": "dbad805a"
   },
   "source": [
    "### Handling Missing values"
   ]
  },
  {
   "cell_type": "markdown",
   "id": "0a0c1c0d",
   "metadata": {
    "id": "0a0c1c0d"
   },
   "source": [
    "* Handling Missing values \n",
    "* Handling Duplicates\n",
    "* Check data type\n",
    "* Understand the dataset"
   ]
  },
  {
   "cell_type": "markdown",
   "id": "40b4a428",
   "metadata": {
    "id": "40b4a428"
   },
   "source": [
    "#### Check Null Values"
   ]
  },
  {
   "cell_type": "code",
   "execution_count": 2,
   "id": "2b94aa8f",
   "metadata": {
    "id": "2b94aa8f"
   },
   "outputs": [],
   "source": [
    "##these are the features with nan value\n",
    "features_with_na=[features for features in df.columns if df[features].isnull().sum()>=1]\n",
    "for feature in features_with_na:\n",
    "    print(feature,np.round(df[feature].isnull().mean()*100,5), '% missing values')"
   ]
  },
  {
   "cell_type": "code",
   "execution_count": null,
   "id": "f08d8e60",
   "metadata": {},
   "outputs": [],
   "source": [
    "features_with_na"
   ]
  },
  {
   "cell_type": "markdown",
   "id": "31bb11b3",
   "metadata": {
    "id": "31bb11b3"
   },
   "source": [
    "* **There are no null values in the dataset**"
   ]
  },
  {
   "cell_type": "markdown",
   "id": "76eafe12",
   "metadata": {
    "id": "76eafe12"
   },
   "source": [
    "### 3.2 Other Data Cleaning steps"
   ]
  },
  {
   "cell_type": "markdown",
   "id": "471fd48f",
   "metadata": {
    "id": "471fd48f"
   },
   "source": [
    "**Handling Duplicates**"
   ]
  },
  {
   "cell_type": "code",
   "execution_count": 3,
   "id": "d8fa17e0",
   "metadata": {
    "id": "d8fa17e0",
    "outputId": "7f1d6a37-65e2-4b4f-f201-69b9c3a80150"
   },
   "outputs": [
    {
     "data": {
      "text/plain": [
       "0"
      ]
     },
     "execution_count": 3,
     "metadata": {},
     "output_type": "execute_result"
    }
   ],
   "source": [
    "df.duplicated().sum()"
   ]
  },
  {
   "cell_type": "markdown",
   "id": "3f574d4c",
   "metadata": {
    "id": "3f574d4c"
   },
   "source": [
    "* **No Duplicates in the dataset**"
   ]
  },
  {
   "cell_type": "markdown",
   "id": "5cf6d275",
   "metadata": {
    "id": "5cf6d275"
   },
   "source": [
    "**Remove CustomerID from the dataset as it cannot used in Model Training**"
   ]
  },
  {
   "cell_type": "code",
   "execution_count": 4,
   "id": "828c0a89",
   "metadata": {
    "id": "828c0a89"
   },
   "outputs": [],
   "source": [
    "df.drop('CustomerID', inplace=True, axis=1)"
   ]
  },
  {
   "cell_type": "markdown",
   "id": "6d48a184",
   "metadata": {
    "id": "6d48a184"
   },
   "source": [
    "# Feature Engineering"
   ]
  },
  {
   "cell_type": "markdown",
   "id": "8453d379",
   "metadata": {
    "id": "8453d379"
   },
   "source": [
    "## Feature Extraction"
   ]
  },
  {
   "cell_type": "code",
   "execution_count": 5,
   "id": "40ec4ef6",
   "metadata": {},
   "outputs": [
    {
     "data": {
      "text/html": [
       "<div>\n",
       "<style scoped>\n",
       "    .dataframe tbody tr th:only-of-type {\n",
       "        vertical-align: middle;\n",
       "    }\n",
       "\n",
       "    .dataframe tbody tr th {\n",
       "        vertical-align: top;\n",
       "    }\n",
       "\n",
       "    .dataframe thead th {\n",
       "        text-align: right;\n",
       "    }\n",
       "</style>\n",
       "<table border=\"1\" class=\"dataframe\">\n",
       "  <thead>\n",
       "    <tr style=\"text-align: right;\">\n",
       "      <th></th>\n",
       "      <th>Gender</th>\n",
       "      <th>Age</th>\n",
       "      <th>Annual Income (k$)</th>\n",
       "      <th>Spending Score (1-100)</th>\n",
       "    </tr>\n",
       "  </thead>\n",
       "  <tbody>\n",
       "    <tr>\n",
       "      <th>0</th>\n",
       "      <td>Male</td>\n",
       "      <td>19</td>\n",
       "      <td>15</td>\n",
       "      <td>39</td>\n",
       "    </tr>\n",
       "    <tr>\n",
       "      <th>1</th>\n",
       "      <td>Male</td>\n",
       "      <td>21</td>\n",
       "      <td>15</td>\n",
       "      <td>81</td>\n",
       "    </tr>\n",
       "    <tr>\n",
       "      <th>2</th>\n",
       "      <td>Female</td>\n",
       "      <td>20</td>\n",
       "      <td>16</td>\n",
       "      <td>6</td>\n",
       "    </tr>\n",
       "    <tr>\n",
       "      <th>3</th>\n",
       "      <td>Female</td>\n",
       "      <td>23</td>\n",
       "      <td>16</td>\n",
       "      <td>77</td>\n",
       "    </tr>\n",
       "    <tr>\n",
       "      <th>4</th>\n",
       "      <td>Female</td>\n",
       "      <td>31</td>\n",
       "      <td>17</td>\n",
       "      <td>40</td>\n",
       "    </tr>\n",
       "  </tbody>\n",
       "</table>\n",
       "</div>"
      ],
      "text/plain": [
       "   Gender  Age  Annual Income (k$)  Spending Score (1-100)\n",
       "0    Male   19                  15                      39\n",
       "1    Male   21                  15                      81\n",
       "2  Female   20                  16                       6\n",
       "3  Female   23                  16                      77\n",
       "4  Female   31                  17                      40"
      ]
     },
     "execution_count": 5,
     "metadata": {},
     "output_type": "execute_result"
    }
   ],
   "source": [
    "df.head()"
   ]
  },
  {
   "cell_type": "markdown",
   "id": "66542de1",
   "metadata": {
    "id": "66542de1"
   },
   "source": [
    "### Type of Features"
   ]
  },
  {
   "cell_type": "markdown",
   "id": "85df52e5",
   "metadata": {
    "id": "85df52e5"
   },
   "source": [
    "**Numeric Features**"
   ]
  },
  {
   "cell_type": "code",
   "execution_count": 6,
   "id": "d48aeaa4",
   "metadata": {
    "id": "d48aeaa4",
    "outputId": "3472d509-3613-408a-b2e0-7e04e3ba694a"
   },
   "outputs": [
    {
     "name": "stdout",
     "output_type": "stream",
     "text": [
      "Num of Numerical Features : 3\n"
     ]
    }
   ],
   "source": [
    "num_features = [feature for feature in df.columns if df[feature].dtype != 'O']\n",
    "print('Num of Numerical Features :', len(num_features))"
   ]
  },
  {
   "cell_type": "markdown",
   "id": "e1107060",
   "metadata": {
    "id": "e1107060"
   },
   "source": [
    "**Categorical Features**"
   ]
  },
  {
   "cell_type": "code",
   "execution_count": 7,
   "id": "ff997805",
   "metadata": {
    "id": "ff997805",
    "outputId": "3dd63e00-7af0-48de-d7bb-5d1f51c557de"
   },
   "outputs": [
    {
     "name": "stdout",
     "output_type": "stream",
     "text": [
      "Num of Categorical Features : 1\n"
     ]
    }
   ],
   "source": [
    "cat_features = [feature for feature in df.columns if df[feature].dtype == 'O']\n",
    "print('Num of Categorical Features :', len(cat_features))"
   ]
  },
  {
   "cell_type": "markdown",
   "id": "9bc032f9",
   "metadata": {
    "id": "9bc032f9"
   },
   "source": [
    "**Discrete features**"
   ]
  },
  {
   "cell_type": "code",
   "execution_count": 8,
   "id": "812ee6e0",
   "metadata": {
    "id": "812ee6e0",
    "outputId": "0181bd9a-5f2b-4292-8a57-d9c683d2e128"
   },
   "outputs": [
    {
     "name": "stdout",
     "output_type": "stream",
     "text": [
      "Num of Discrete Features : 0\n"
     ]
    }
   ],
   "source": [
    "discrete_features=[feature for feature in num_features if len(df[feature].unique())<=25]\n",
    "print('Num of Discrete Features :',len(discrete_features))"
   ]
  },
  {
   "cell_type": "markdown",
   "id": "3e6740bf",
   "metadata": {
    "id": "3e6740bf"
   },
   "source": [
    "**Continues Features**"
   ]
  },
  {
   "cell_type": "code",
   "execution_count": null,
   "id": "e501c72b",
   "metadata": {
    "id": "e501c72b",
    "outputId": "c10010b4-eb51-406e-afc4-464894031222"
   },
   "outputs": [],
   "source": [
    "continuous_features=[feature for feature in num_features if feature not in discrete_features]\n",
    "print('Num of Continuous Features :',len(continuous_features))"
   ]
  },
  {
   "cell_type": "markdown",
   "id": "5a2cf140",
   "metadata": {
    "id": "5a2cf140"
   },
   "source": [
    "### Split X and Y"
   ]
  },
  {
   "cell_type": "markdown",
   "id": "51a3853d",
   "metadata": {
    "id": "51a3853d"
   },
   "source": [
    "## Feature Encoding and Scaling"
   ]
  },
  {
   "cell_type": "markdown",
   "id": "29dbaf2d",
   "metadata": {
    "id": "29dbaf2d"
   },
   "source": [
    " **One Hot Encoding for Columns which had lesser unique values and not ordinal**\n",
    "* One hot encoding is a process by which categorical variables are converted into a form that could be provided to ML algorithms to do a better job in prediction.\n",
    "\n",
    "**Ordinal Encoding for Columns which has many unique categories** \n",
    "* Ordinal encoding is used here as label encoder is supported for column transformer.\n",
    "* Ordinal encoding is used for Ordinal Variable. Variable comprises a finite set of discrete values with a ranked ordering between values."
   ]
  },
  {
   "cell_type": "markdown",
   "id": "8287c236",
   "metadata": {},
   "source": [
    "**Label encoding Gender column**"
   ]
  },
  {
   "cell_type": "code",
   "execution_count": null,
   "id": "3cbcb7e2",
   "metadata": {},
   "outputs": [],
   "source": [
    "# If the gender column has Male it is encoded as 1 others as 0\n",
    "from sklearn import preprocessing\n",
    "le1 = preprocessing.LabelEncoder()\n",
    "df['Gender'] =le1.fit_transform(df['Gender'])"
   ]
  },
  {
   "cell_type": "markdown",
   "id": "8b08df30",
   "metadata": {
    "id": "8b08df30"
   },
   "source": [
    "# Regression"
   ]
  },
  {
   "cell_type": "markdown",
   "id": "8a2c0485",
   "metadata": {
    "id": "8a2c0485"
   },
   "source": [
    "## Train Test Split\n",
    "- The train-test split procedure is used to estimate the performance of machine learning algorithms when they are used to make predictions on data not used to train the model.\n",
    "\n",
    "- It is a fast and easy procedure to perform, the results of which allow you to compare the performance of machine learning algorithms."
   ]
  },
  {
   "cell_type": "code",
   "execution_count": 11,
   "id": "e0f5858e",
   "metadata": {
    "id": "e0f5858e",
    "outputId": "d91dcb53-e0ae-4571-ef70-745f4c2ed1a2"
   },
   "outputs": [
    {
     "data": {
      "text/plain": [
       "((160, 3), (40, 3))"
      ]
     },
     "execution_count": 11,
     "metadata": {},
     "output_type": "execute_result"
    }
   ],
   "source": [
    "from sklearn.model_selection import  train_test_split\n",
    "# separate dataset into train and test\n",
    "X_train, X_test, y_train, y_test = train_test_split(X,y,test_size=0.2,random_state=42)\n",
    "X_train.shape, X_test.shape"
   ]
  },
  {
   "cell_type": "code",
   "execution_count": 12,
   "id": "4cdb60f1",
   "metadata": {
    "id": "4cdb60f1"
   },
   "outputs": [],
   "source": [
    "from sklearn.linear_model import LinearRegression\n",
    "from sklearn.tree import DecisionTreeRegressor\n",
    "from sklearn.svm import SVR\n",
    "from sklearn.metrics import mean_absolute_error "
   ]
  },
  {
   "cell_type": "code",
   "execution_count": 13,
   "id": "b4da40e7",
   "metadata": {
    "id": "b4da40e7"
   },
   "outputs": [],
   "source": [
    "def evaluate_clf(true, predicted):\n",
    "    mae = mean_absolute_error(true, predicted) # Calculate Accuracy\n",
    "    return mae"
   ]
  },
  {
   "cell_type": "code",
   "execution_count": 14,
   "id": "91cebd1a",
   "metadata": {
    "id": "91cebd1a",
    "scrolled": false
   },
   "outputs": [],
   "source": [
    "models = {\n",
    "    \"Linear Regression\": LinearRegression(),\n",
    "    \"Decision Tree Regressor\": DecisionTreeRegressor(),\n",
    "    \"Support Vector Regressor\": SVR(),\n",
    "}"
   ]
  },
  {
   "cell_type": "code",
   "execution_count": 15,
   "id": "9aa69756",
   "metadata": {
    "id": "9aa69756"
   },
   "outputs": [],
   "source": [
    "# Create a function which can evaluate models and return a report \n",
    "def evaluate_models(X, y, models):\n",
    "    '''\n",
    "    This function takes in X and y and models dictionary as input\n",
    "    It splits the data into Train Test split\n",
    "    Iterates through the given model dictionary and evaluates the metrics\n",
    "    Returns: Dataframe which contains report of all models metrics with cost\n",
    "    '''\n",
    "    # separate dataset into train and test\n",
    "    X_train, X_test, y_train, y_test = train_test_split(X,y,test_size=0.2,random_state=42)\n",
    "    \n",
    "    models_list = []\n",
    "    accuracy_list = []\n",
    "    \n",
    "    \n",
    "    for i in range(len(list(models))):\n",
    "        model = list(models.values())[i]\n",
    "        model.fit(X_train, y_train) # Train model\n",
    "\n",
    "        # Make predictions\n",
    "        y_train_pred = model.predict(X_train)\n",
    "        y_test_pred = model.predict(X_test)\n",
    "\n",
    "        # Training set performance\n",
    "        mae_train_error=evaluate_clf(y_train ,y_train_pred)\n",
    "\n",
    "\n",
    "        # Test set performance\n",
    "        mae_test_error=evaluate_clf(y_test, y_test_pred)\n",
    "\n",
    "        print(list(models.keys())[i])\n",
    "        models_list.append(list(models.keys())[i])\n",
    "\n",
    "        print('Model performance for Training set')\n",
    "        print(\"- MAE: {:.4f}\".format(mae_train_error))\n",
    "       \n",
    "        print('----------------------------------')\n",
    "\n",
    "        print('Model performance for Test set')\n",
    "        print('- MAE: {:.4f}'.format(mae_test_error))\n",
    "        accuracy_list.append(mae_test_error)\n",
    "        print('='*35)\n",
    "        print('\\n')\n",
    "        \n",
    "    report=pd.DataFrame(list(zip(models_list, accuracy_list)), columns=['Model Name', 'Accuracy']).sort_values(by=['Accuracy'], ascending=False)\n",
    "        \n",
    "    return report"
   ]
  },
  {
   "cell_type": "markdown",
   "id": "0e010280",
   "metadata": {
    "id": "0e010280"
   },
   "source": [
    "## Model Training "
   ]
  },
  {
   "cell_type": "code",
   "execution_count": 16,
   "id": "b08c217d",
   "metadata": {
    "id": "b08c217d",
    "outputId": "f8290c30-975a-4e44-80bd-9e120036e956",
    "scrolled": false
   },
   "outputs": [
    {
     "name": "stdout",
     "output_type": "stream",
     "text": [
      "Linear Regression\n",
      "Model performance for Training set\n",
      "- MAE: 20.8651\n",
      "----------------------------------\n",
      "Model performance for Test set\n",
      "- MAE: 18.1514\n",
      "===================================\n",
      "\n",
      "\n",
      "Decision Tree Regressor\n",
      "Model performance for Training set\n",
      "- MAE: 0.5875\n",
      "----------------------------------\n",
      "Model performance for Test set\n",
      "- MAE: 17.0000\n",
      "===================================\n",
      "\n",
      "\n",
      "Support Vector Regressor\n",
      "Model performance for Training set\n",
      "- MAE: 20.8281\n",
      "----------------------------------\n",
      "Model performance for Test set\n",
      "- MAE: 18.3155\n",
      "===================================\n",
      "\n",
      "\n"
     ]
    }
   ],
   "source": [
    "base_model_report =evaluate_models(X=X, y=y, models=models)"
   ]
  },
  {
   "cell_type": "markdown",
   "id": "8ac46818",
   "metadata": {
    "id": "8ac46818"
   },
   "source": [
    "**Results of All Models**"
   ]
  },
  {
   "cell_type": "code",
   "execution_count": 17,
   "id": "fd686f5e",
   "metadata": {
    "id": "fd686f5e",
    "outputId": "bf5b1cc5-5eab-4a63-c765-0a23cdc94ab0"
   },
   "outputs": [
    {
     "data": {
      "text/html": [
       "<div>\n",
       "<style scoped>\n",
       "    .dataframe tbody tr th:only-of-type {\n",
       "        vertical-align: middle;\n",
       "    }\n",
       "\n",
       "    .dataframe tbody tr th {\n",
       "        vertical-align: top;\n",
       "    }\n",
       "\n",
       "    .dataframe thead th {\n",
       "        text-align: right;\n",
       "    }\n",
       "</style>\n",
       "<table border=\"1\" class=\"dataframe\">\n",
       "  <thead>\n",
       "    <tr style=\"text-align: right;\">\n",
       "      <th></th>\n",
       "      <th>Model Name</th>\n",
       "      <th>Accuracy</th>\n",
       "    </tr>\n",
       "  </thead>\n",
       "  <tbody>\n",
       "    <tr>\n",
       "      <th>2</th>\n",
       "      <td>Support Vector Regressor</td>\n",
       "      <td>18.315538</td>\n",
       "    </tr>\n",
       "    <tr>\n",
       "      <th>0</th>\n",
       "      <td>Linear Regression</td>\n",
       "      <td>18.151395</td>\n",
       "    </tr>\n",
       "    <tr>\n",
       "      <th>1</th>\n",
       "      <td>Decision Tree Regressor</td>\n",
       "      <td>17.000000</td>\n",
       "    </tr>\n",
       "  </tbody>\n",
       "</table>\n",
       "</div>"
      ],
      "text/plain": [
       "                 Model Name   Accuracy\n",
       "2  Support Vector Regressor  18.315538\n",
       "0         Linear Regression  18.151395\n",
       "1   Decision Tree Regressor  17.000000"
      ]
     },
     "execution_count": 17,
     "metadata": {},
     "output_type": "execute_result"
    }
   ],
   "source": [
    "base_model_report"
   ]
  },
  {
   "cell_type": "markdown",
   "id": "84d34671",
   "metadata": {
    "id": "84d34671"
   },
   "source": [
    "## Best Model is Support Vector Regressor (SVR) with Accuracy 18.31%"
   ]
  }
 ],
 "metadata": {
  "colab": {
   "provenance": []
  },
  "kernelspec": {
   "display_name": "DeepLearning",
   "language": "python",
   "name": "deeplearning"
  },
  "language_info": {
   "codemirror_mode": {
    "name": "ipython",
    "version": 3
   },
   "file_extension": ".py",
   "mimetype": "text/x-python",
   "name": "python",
   "nbconvert_exporter": "python",
   "pygments_lexer": "ipython3",
   "version": "3.9.18"
  },
  "vscode": {
   "interpreter": {
    "hash": "e6422fc631fadc7a14dbe43d10d544a88c5583408f68c588bbe9704b9c540dab"
   }
  }
 },
 "nbformat": 4,
 "nbformat_minor": 5
}
